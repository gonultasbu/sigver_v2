{
 "cells": [
  {
   "cell_type": "code",
   "execution_count": 12,
   "metadata": {},
   "outputs": [],
   "source": [
    "import sys\n",
    "import os\n",
    "sys.path.append(os.path.dirname(os.getcwd()))\n",
    "import numpy as np \n",
    "import pandas as pd\n",
    "from PIL import Image\n",
    "%matplotlib inline \n",
    "from matplotlib import pyplot as plt\n",
    "import torch\n",
    "from featurelearning.models.signet import SigNet\n",
    "from preprocessing.normalize import crop_center\n",
    "import tqdm"
   ]
  },
  {
   "cell_type": "code",
   "execution_count": 2,
   "metadata": {},
   "outputs": [
    {
     "name": "stdout",
     "output_type": "stream",
     "text": [
      "Using device: cuda\n"
     ]
    }
   ],
   "source": [
    "device = torch.device('cuda' if torch.cuda.is_available() else 'cpu')\n",
    "print('Using device: {}'.format(device))"
   ]
  },
  {
   "cell_type": "code",
   "execution_count": 3,
   "metadata": {},
   "outputs": [],
   "source": [
    "npz_dir = 'C:\\\\Users\\\\Mert\\\\Documents\\\\GitHub\\\\sigver_v2\\\\npz\\\\gpds4k.npz'"
   ]
  },
  {
   "cell_type": "code",
   "execution_count": 4,
   "metadata": {},
   "outputs": [],
   "source": [
    "with np.load(npz_dir, allow_pickle=True) as data:\n",
    "        x, y, yforg, user_mapping, filenames = data['x'], data['y'], data['yforg'], data['user_mapping'], data['filenames']"
   ]
  },
  {
   "cell_type": "code",
   "execution_count": 5,
   "metadata": {},
   "outputs": [
    {
     "data": {
      "image/png": "[encoded data removed]",
      "text/plain": [
       "<Figure size 432x288 with 1 Axes>"
      ]
     },
     "metadata": {
      "needs_background": "light"
     },
     "output_type": "display_data"
    }
   ],
   "source": [
    "# Plot a sample\n",
    "plt.imshow(x[2,0,:,:],cmap='gray',vmin=0,vmax=255)\n",
    "plt.show()"
   ]
  },
  {
   "cell_type": "code",
   "execution_count": 6,
   "metadata": {},
   "outputs": [
    {
     "data": {
      "text/plain": [
       "IncompatibleKeys(missing_keys=[], unexpected_keys=[])"
      ]
     },
     "execution_count": 6,
     "metadata": {},
     "output_type": "execute_result"
    }
   ],
   "source": [
    "state_dict, classification_layer, forg_layer = torch.load('saved_models/gpds4k-f-0999L2_net.pth')\n",
    "base_model = SigNet().to(device).eval()\n",
    "base_model.load_state_dict(state_dict)"
   ]
  },
  {
   "cell_type": "markdown",
   "metadata": {},
   "source": [
    "* Crop the middle 150x220"
   ]
  },
  {
   "cell_type": "code",
   "execution_count": 7,
   "metadata": {},
   "outputs": [
    {
     "name": "stderr",
     "output_type": "stream",
     "text": [
      "100%|#######################################################################| 216000/216000 [00:17<00:00, 12021.08it/s]\n"
     ]
    }
   ],
   "source": [
    "xc = np.zeros((x.shape[0],1,150,220), dtype=np.uint8)\n",
    "for idx in tqdm.tqdm(np.arange(x.shape[0]),ascii=True):\n",
    "    xc[idx,0,:,:] = crop_center(x[idx,0,:,:], (150,220))"
   ]
  },
  {
   "cell_type": "code",
   "execution_count": 8,
   "metadata": {},
   "outputs": [],
   "source": [
    "del x "
   ]
  },
  {
   "cell_type": "code",
   "execution_count": 9,
   "metadata": {},
   "outputs": [],
   "source": [
    "visual_f=np.zeros((xc.shape[0],2048))"
   ]
  },
  {
   "cell_type": "code",
   "execution_count": 10,
   "metadata": {},
   "outputs": [
    {
     "data": {
      "text/plain": [
       "(216000, 2048)"
      ]
     },
     "execution_count": 10,
     "metadata": {},
     "output_type": "execute_result"
    }
   ],
   "source": [
    "visual_f.shape"
   ]
  },
  {
   "cell_type": "code",
   "execution_count": 11,
   "metadata": {},
   "outputs": [],
   "source": [
    "with torch.no_grad():\n",
    "    for idx,gpu_slice in enumerate(np.split(xc,250)):\n",
    "        visual_f[idx*len(gpu_slice):(idx+1)*len(gpu_slice),:] = base_model(torch.tensor(gpu_slice).float().div(255).to(device)).cpu()"
   ]
  },
  {
   "cell_type": "code",
   "execution_count": 12,
   "metadata": {},
   "outputs": [],
   "source": [
    "visual_f = pd.DataFrame(visual_f)"
   ]
  },
  {
   "cell_type": "code",
   "execution_count": 13,
   "metadata": {},
   "outputs": [
    {
     "data": {
      "text/html": [
       "<div>\n",
       "<style scoped>\n",
       "    .dataframe tbody tr th:only-of-type {\n",
       "        vertical-align: middle;\n",
       "    }\n",
       "\n",
       "    .dataframe tbody tr th {\n",
       "        vertical-align: top;\n",
       "    }\n",
       "\n",
       "    .dataframe thead th {\n",
       "        text-align: right;\n",
       "    }\n",
       "</style>\n",
       "<table border=\"1\" class=\"dataframe\">\n",
       "  <thead>\n",
       "    <tr style=\"text-align: right;\">\n",
       "      <th></th>\n",
       "      <th>0</th>\n",
       "      <th>1</th>\n",
       "      <th>2</th>\n",
       "      <th>3</th>\n",
       "      <th>4</th>\n",
       "      <th>5</th>\n",
       "      <th>6</th>\n",
       "      <th>7</th>\n",
       "      <th>8</th>\n",
       "      <th>9</th>\n",
       "      <th>...</th>\n",
       "      <th>2038</th>\n",
       "      <th>2039</th>\n",
       "      <th>2040</th>\n",
       "      <th>2041</th>\n",
       "      <th>2042</th>\n",
       "      <th>2043</th>\n",
       "      <th>2044</th>\n",
       "      <th>2045</th>\n",
       "      <th>2046</th>\n",
       "      <th>2047</th>\n",
       "    </tr>\n",
       "  </thead>\n",
       "  <tbody>\n",
       "    <tr>\n",
       "      <th>0</th>\n",
       "      <td>0.000000</td>\n",
       "      <td>0.296794</td>\n",
       "      <td>0.054041</td>\n",
       "      <td>1.482445</td>\n",
       "      <td>0.046547</td>\n",
       "      <td>0.000000</td>\n",
       "      <td>0.0</td>\n",
       "      <td>0.034372</td>\n",
       "      <td>0.171243</td>\n",
       "      <td>0.0</td>\n",
       "      <td>...</td>\n",
       "      <td>0.000000</td>\n",
       "      <td>0.000000</td>\n",
       "      <td>0.000000</td>\n",
       "      <td>0.000000</td>\n",
       "      <td>0.452807</td>\n",
       "      <td>0.111740</td>\n",
       "      <td>0.0</td>\n",
       "      <td>0.0</td>\n",
       "      <td>0.131535</td>\n",
       "      <td>0.000000</td>\n",
       "    </tr>\n",
       "    <tr>\n",
       "      <th>1</th>\n",
       "      <td>0.751521</td>\n",
       "      <td>0.220826</td>\n",
       "      <td>0.066615</td>\n",
       "      <td>0.302663</td>\n",
       "      <td>0.000000</td>\n",
       "      <td>0.142470</td>\n",
       "      <td>0.0</td>\n",
       "      <td>0.369951</td>\n",
       "      <td>0.000000</td>\n",
       "      <td>0.0</td>\n",
       "      <td>...</td>\n",
       "      <td>0.000000</td>\n",
       "      <td>0.000000</td>\n",
       "      <td>0.002101</td>\n",
       "      <td>0.174642</td>\n",
       "      <td>0.421599</td>\n",
       "      <td>0.076334</td>\n",
       "      <td>0.0</td>\n",
       "      <td>0.0</td>\n",
       "      <td>0.186776</td>\n",
       "      <td>0.000000</td>\n",
       "    </tr>\n",
       "    <tr>\n",
       "      <th>2</th>\n",
       "      <td>0.000000</td>\n",
       "      <td>0.225271</td>\n",
       "      <td>0.002716</td>\n",
       "      <td>0.000000</td>\n",
       "      <td>0.052612</td>\n",
       "      <td>0.000000</td>\n",
       "      <td>0.0</td>\n",
       "      <td>0.371115</td>\n",
       "      <td>0.000000</td>\n",
       "      <td>0.0</td>\n",
       "      <td>...</td>\n",
       "      <td>0.171636</td>\n",
       "      <td>0.000000</td>\n",
       "      <td>0.026828</td>\n",
       "      <td>0.191547</td>\n",
       "      <td>0.430543</td>\n",
       "      <td>0.130247</td>\n",
       "      <td>0.0</td>\n",
       "      <td>0.0</td>\n",
       "      <td>0.278173</td>\n",
       "      <td>0.384287</td>\n",
       "    </tr>\n",
       "    <tr>\n",
       "      <th>3</th>\n",
       "      <td>0.056965</td>\n",
       "      <td>0.011040</td>\n",
       "      <td>0.051867</td>\n",
       "      <td>0.302583</td>\n",
       "      <td>0.000000</td>\n",
       "      <td>0.153977</td>\n",
       "      <td>0.0</td>\n",
       "      <td>0.440728</td>\n",
       "      <td>0.000000</td>\n",
       "      <td>0.0</td>\n",
       "      <td>...</td>\n",
       "      <td>0.000000</td>\n",
       "      <td>0.000000</td>\n",
       "      <td>0.000000</td>\n",
       "      <td>0.464118</td>\n",
       "      <td>0.329847</td>\n",
       "      <td>0.012519</td>\n",
       "      <td>0.0</td>\n",
       "      <td>0.0</td>\n",
       "      <td>0.278593</td>\n",
       "      <td>0.000000</td>\n",
       "    </tr>\n",
       "    <tr>\n",
       "      <th>4</th>\n",
       "      <td>1.198866</td>\n",
       "      <td>0.255626</td>\n",
       "      <td>0.099902</td>\n",
       "      <td>1.199899</td>\n",
       "      <td>0.027524</td>\n",
       "      <td>0.342910</td>\n",
       "      <td>0.0</td>\n",
       "      <td>0.312641</td>\n",
       "      <td>0.000000</td>\n",
       "      <td>0.0</td>\n",
       "      <td>...</td>\n",
       "      <td>0.000000</td>\n",
       "      <td>0.292207</td>\n",
       "      <td>0.155912</td>\n",
       "      <td>0.184085</td>\n",
       "      <td>0.242108</td>\n",
       "      <td>0.012301</td>\n",
       "      <td>0.0</td>\n",
       "      <td>0.0</td>\n",
       "      <td>0.441605</td>\n",
       "      <td>0.000000</td>\n",
       "    </tr>\n",
       "  </tbody>\n",
       "</table>\n",
       "<p>5 rows × 2048 columns</p>\n",
       "</div>"
      ],
      "text/plain": [
       "       0         1         2         3         4         5     6         7     \\\n",
       "0  0.000000  0.296794  0.054041  1.482445  0.046547  0.000000   0.0  0.034372   \n",
       "1  0.751521  0.220826  0.066615  0.302663  0.000000  0.142470   0.0  0.369951   \n",
       "2  0.000000  0.225271  0.002716  0.000000  0.052612  0.000000   0.0  0.371115   \n",
       "3  0.056965  0.011040  0.051867  0.302583  0.000000  0.153977   0.0  0.440728   \n",
       "4  1.198866  0.255626  0.099902  1.199899  0.027524  0.342910   0.0  0.312641   \n",
       "\n",
       "       8     9     ...      2038      2039      2040      2041      2042  \\\n",
       "0  0.171243   0.0  ...  0.000000  0.000000  0.000000  0.000000  0.452807   \n",
       "1  0.000000   0.0  ...  0.000000  0.000000  0.002101  0.174642  0.421599   \n",
       "2  0.000000   0.0  ...  0.171636  0.000000  0.026828  0.191547  0.430543   \n",
       "3  0.000000   0.0  ...  0.000000  0.000000  0.000000  0.464118  0.329847   \n",
       "4  0.000000   0.0  ...  0.000000  0.292207  0.155912  0.184085  0.242108   \n",
       "\n",
       "       2043  2044  2045      2046      2047  \n",
       "0  0.111740   0.0   0.0  0.131535  0.000000  \n",
       "1  0.076334   0.0   0.0  0.186776  0.000000  \n",
       "2  0.130247   0.0   0.0  0.278173  0.384287  \n",
       "3  0.012519   0.0   0.0  0.278593  0.000000  \n",
       "4  0.012301   0.0   0.0  0.441605  0.000000  \n",
       "\n",
       "[5 rows x 2048 columns]"
      ]
     },
     "execution_count": 13,
     "metadata": {},
     "output_type": "execute_result"
    }
   ],
   "source": [
    "visual_f.head()"
   ]
  },
  {
   "cell_type": "code",
   "execution_count": 14,
   "metadata": {},
   "outputs": [],
   "source": [
    "if npz_dir.endswith('gpds4k.npz'):\n",
    "    sig_ids = np.array([int(fname.lower().split('-')[-1].split('.')[0]) for fname in np.squeeze(filenames)])\n",
    "    user_ids = np.array([int(fname.lower().split('-')[1]) for fname in np.squeeze(filenames)])\n",
    "elif npz_dir.endswith('mcyt.npz'):\n",
    "    user_ids = np.array([int(fname.lower().split('_')[-1].split('v')[0].split('f')[0]) for fname in np.squeeze(filenames)])\n",
    "    sig_ids = np.array([int(fname.lower().split('_')[-1].split('v')[-1].split('f')[-1].split('.')[0])+1 for fname in np.squeeze(filenames)])"
   ]
  },
  {
   "cell_type": "code",
   "execution_count": 15,
   "metadata": {},
   "outputs": [],
   "source": [
    "filenames_ex = np.expand_dims(filenames,axis=1)\n",
    "yforg_ex = np.expand_dims(yforg,axis=1)\n",
    "sig_ids_ex = np.expand_dims(sig_ids,axis=1)\n",
    "user_ids_ex = np.expand_dims(user_ids,axis=1)"
   ]
  },
  {
   "cell_type": "code",
   "execution_count": 16,
   "metadata": {},
   "outputs": [],
   "source": [
    "data_f=pd.DataFrame(np.concatenate((filenames_ex, user_ids_ex, sig_ids_ex, yforg_ex),axis=1), columns=['path', 'user_id', 'sig_id', 'fakeness'])"
   ]
  },
  {
   "cell_type": "code",
   "execution_count": 18,
   "metadata": {},
   "outputs": [],
   "source": [
    "save_path = 'C:\\\\Users\\\\Mert\\\\Documents\\\\GitHub\\\\sigver_bmg\\\\data\\\\GPDSSyntheticSignatures4k\\\\bmgnet-f0999_features'\n",
    "data_f.to_csv(os.path.join(save_path,'data_features.csv'),index=False)\n",
    "visual_f.to_csv(os.path.join(save_path,'visual_features.csv'),index=False)"
   ]
  }
 ],
 "metadata": {
  "kernelspec": {
   "display_name": "Python 3",
   "language": "python",
   "name": "python3"
  },
  "language_info": {
   "codemirror_mode": {
    "name": "ipython",
    "version": 3
   },
   "file_extension": ".py",
   "mimetype": "text/x-python",
   "name": "python",
   "nbconvert_exporter": "python",
   "pygments_lexer": "ipython3",
   "version": "3.7.3"
  }
 },
 "nbformat": 4,
 "nbformat_minor": 2
}
