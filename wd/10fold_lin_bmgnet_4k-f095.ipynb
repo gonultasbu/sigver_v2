{
 "cells": [
  {
   "cell_type": "code",
   "execution_count": 1,
   "metadata": {
    "scrolled": true
   },
   "outputs": [],
   "source": [
    "import scipy.io as sio\n",
    "from scipy.misc import imread\n",
    "import tensorflow as tf\n",
    "import numpy as np\n",
    "import pandas as pd\n",
    "import sys\n",
    "import os\n",
    "import scipy.io\n",
    "from find_largest_image import find_largest\n",
    "import tqdm \n",
    "from sklearn.model_selection import train_test_split\n",
    "from sklearn.svm import SVC\n",
    "from xgboost import XGBClassifier\n",
    "import random\n",
    "from numpy.random import choice\n",
    "from sklearn.neural_network import MLPClassifier\n",
    "from sklearn.metrics import accuracy_score, roc_curve\n",
    "import sklearn.pipeline as pipeline\n",
    "import sklearn.preprocessing as preprocessing\n",
    "from sklearn.model_selection import train_test_split"
   ]
  },
  {
   "cell_type": "code",
   "execution_count": 2,
   "metadata": {},
   "outputs": [],
   "source": [
    "data_folder = 'C:\\\\Users\\\\Mert\\\\Documents\\\\GitHub\\\\sigver_bmg\\\\data\\\\GPDSSyntheticSignatures4k\\\\bmgnet-f095_features'"
   ]
  },
  {
   "cell_type": "code",
   "execution_count": 3,
   "metadata": {},
   "outputs": [],
   "source": [
    "user_kernel='linear'"
   ]
  },
  {
   "cell_type": "code",
   "execution_count": 4,
   "metadata": {},
   "outputs": [],
   "source": [
    "data_f = pd.read_csv(os.path.join(data_folder,'data_features.csv'))\n",
    "visual_f = pd.read_csv(os.path.join(data_folder,'visual_features.csv'))"
   ]
  },
  {
   "cell_type": "markdown",
   "metadata": {},
   "source": [
    "# MODEL SELECTION & TRAINING"
   ]
  },
  {
   "cell_type": "code",
   "execution_count": 5,
   "metadata": {},
   "outputs": [],
   "source": [
    "dev_exp_ratio = 0.30\n",
    "sorted_id_list = np.sort(data_f['user_id'].unique())\n",
    "dev_exp_splitter=int(len(sorted_id_list)*dev_exp_ratio)\n",
    "dev_val_user_ids = sorted_id_list[:dev_exp_splitter]\n",
    "exp_user_ids = sorted_id_list[dev_exp_splitter:]"
   ]
  },
  {
   "cell_type": "code",
   "execution_count": 6,
   "metadata": {},
   "outputs": [
    {
     "data": {
      "text/plain": [
       "(1200,)"
      ]
     },
     "execution_count": 6,
     "metadata": {},
     "output_type": "execute_result"
    }
   ],
   "source": [
    "dev_val_user_ids.shape"
   ]
  },
  {
   "cell_type": "code",
   "execution_count": 7,
   "metadata": {},
   "outputs": [
    {
     "data": {
      "text/plain": [
       "(2800,)"
      ]
     },
     "execution_count": 7,
     "metadata": {},
     "output_type": "execute_result"
    }
   ],
   "source": [
    "exp_user_ids.shape"
   ]
  },
  {
   "cell_type": "code",
   "execution_count": 8,
   "metadata": {},
   "outputs": [
    {
     "name": "stderr",
     "output_type": "stream",
     "text": [
      "c:\\users\\mert\\anaconda3\\envs\\ml_gpu\\lib\\site-packages\\sklearn\\model_selection\\_split.py:2179: FutureWarning: From version 0.21, test_size will always complement train_size unless both are specified.\n",
      "  FutureWarning)\n",
      "100%|################################################################################| 200/200 [19:57<00:00,  6.61s/it]\n",
      "c:\\users\\mert\\anaconda3\\envs\\ml_gpu\\lib\\site-packages\\sklearn\\model_selection\\_split.py:2179: FutureWarning: From version 0.21, test_size will always complement train_size unless both are specified.\n",
      "  FutureWarning)\n",
      "100%|################################################################################| 200/200 [19:40<00:00,  5.41s/it]\n",
      "c:\\users\\mert\\anaconda3\\envs\\ml_gpu\\lib\\site-packages\\sklearn\\model_selection\\_split.py:2179: FutureWarning: From version 0.21, test_size will always complement train_size unless both are specified.\n",
      "  FutureWarning)\n",
      "100%|################################################################################| 200/200 [16:28<00:00,  4.40s/it]\n",
      "c:\\users\\mert\\anaconda3\\envs\\ml_gpu\\lib\\site-packages\\sklearn\\model_selection\\_split.py:2179: FutureWarning: From version 0.21, test_size will always complement train_size unless both are specified.\n",
      "  FutureWarning)\n",
      "100%|################################################################################| 200/200 [16:36<00:00,  4.61s/it]\n",
      "c:\\users\\mert\\anaconda3\\envs\\ml_gpu\\lib\\site-packages\\sklearn\\model_selection\\_split.py:2179: FutureWarning: From version 0.21, test_size will always complement train_size unless both are specified.\n",
      "  FutureWarning)\n",
      "100%|################################################################################| 200/200 [16:31<00:00,  4.35s/it]\n",
      "c:\\users\\mert\\anaconda3\\envs\\ml_gpu\\lib\\site-packages\\sklearn\\model_selection\\_split.py:2179: FutureWarning: From version 0.21, test_size will always complement train_size unless both are specified.\n",
      "  FutureWarning)\n",
      "100%|################################################################################| 200/200 [16:34<00:00,  5.44s/it]\n",
      "c:\\users\\mert\\anaconda3\\envs\\ml_gpu\\lib\\site-packages\\sklearn\\model_selection\\_split.py:2179: FutureWarning: From version 0.21, test_size will always complement train_size unless both are specified.\n",
      "  FutureWarning)\n",
      "100%|################################################################################| 200/200 [16:27<00:00,  4.92s/it]\n",
      "c:\\users\\mert\\anaconda3\\envs\\ml_gpu\\lib\\site-packages\\sklearn\\model_selection\\_split.py:2179: FutureWarning: From version 0.21, test_size will always complement train_size unless both are specified.\n",
      "  FutureWarning)\n",
      "100%|################################################################################| 200/200 [16:27<00:00,  4.72s/it]\n",
      "c:\\users\\mert\\anaconda3\\envs\\ml_gpu\\lib\\site-packages\\sklearn\\model_selection\\_split.py:2179: FutureWarning: From version 0.21, test_size will always complement train_size unless both are specified.\n",
      "  FutureWarning)\n",
      "100%|################################################################################| 200/200 [16:12<00:00,  4.25s/it]\n",
      "c:\\users\\mert\\anaconda3\\envs\\ml_gpu\\lib\\site-packages\\sklearn\\model_selection\\_split.py:2179: FutureWarning: From version 0.21, test_size will always complement train_size unless both are specified.\n",
      "  FutureWarning)\n",
      "100%|################################################################################| 200/200 [16:36<00:00,  4.91s/it]\n"
     ]
    }
   ],
   "source": [
    "fakes_preds = []\n",
    "gens_preds = []\n",
    "\n",
    "for fold in np.arange(0,10):\n",
    "    # assert len(dev_val_user_ids)==581\n",
    "    np.random.shuffle(dev_val_user_ids)\n",
    "    dev_user_ids = dev_val_user_ids[0:1000]\n",
    "    validation_user_ids = dev_val_user_ids[1000:len(dev_val_user_ids)]\n",
    "    train_idx, test_idx = train_test_split(np.arange(1,25), train_size=0.5, test_size=0.5)\n",
    "\n",
    "    dev_df = data_f.loc[data_f['user_id'].isin(dev_user_ids)]\n",
    "    dev_vf = visual_f.loc[dev_df.index]\n",
    "    val_df = data_f.loc[data_f['user_id'].isin(validation_user_ids)]\n",
    "    val_vf = visual_f.loc[val_df.index]\n",
    "\n",
    "    dev_df_gen = dev_df.loc[dev_df['fakeness']==0]\n",
    "    dev_df_fake = dev_df.loc[dev_df['fakeness']==1]\n",
    "    dev_df_gen_12 = dev_df_gen.loc[dev_df_gen['sig_id'].isin(train_idx)]\n",
    "    dev_df_valid_12 = dev_df_gen.loc[dev_df_gen['sig_id'].isin(test_idx)]\n",
    "    \n",
    "    train_idx, test_idx = train_test_split(np.arange(1,25), train_size=0.5)\n",
    "    val_df_gen = val_df.loc[val_df['fakeness']==0]\n",
    "    val_df_fake = val_df.loc[val_df['fakeness']==1]\n",
    "    val_df_gen_12 = val_df_gen.loc[val_df_gen['sig_id'].isin(train_idx)]\n",
    "    val_df_valid_gen_12 = val_df_gen.loc[val_df_gen['sig_id'].isin(test_idx)]\n",
    "\n",
    "    for user_id in tqdm.tqdm(validation_user_ids, ascii=True):\n",
    "        clf = SVC(C=1,gamma='scale',class_weight='balanced', probability=False, kernel=user_kernel)\n",
    "        y_train = (pd.concat([val_df_gen_12.loc[val_df_gen_12['user_id']==user_id],dev_df_gen.loc[dev_df_gen['user_id']!=user_id]]))['user_id']==user_id\n",
    "        X_train = visual_f.loc[y_train.index]  \n",
    "        clf.fit(X_train, y_train)\n",
    "        y_valid_fakes = val_df_fake.loc[(val_df_fake['user_id']==user_id)]\n",
    "        X_valid_f = visual_f.loc[y_valid_fakes.index]\n",
    "        fakes_preds.append(clf.decision_function(X_valid_f))\n",
    "        y_valid_gens = val_df_valid_gen_12.loc[val_df_valid_gen_12['user_id']==user_id]\n",
    "        X_valid_g = visual_f.loc[y_valid_gens.index]\n",
    "        gens_preds.append(clf.decision_function(X_valid_g))"
   ]
  },
  {
   "cell_type": "markdown",
   "metadata": {},
   "source": [
    "# GLOBAL THRESHOLD SELECTION"
   ]
  },
  {
   "cell_type": "code",
   "execution_count": null,
   "metadata": {},
   "outputs": [
    {
     "name": "stdout",
     "output_type": "stream",
     "text": [
      "EER_glob :  9.681666666666667 \n",
      "EER_Threshold_glob :  0.21330879911100853\n"
     ]
    }
   ],
   "source": [
    "flat_fakes_preds = np.expand_dims(np.array([item for sublist in fakes_preds for item in sublist]),axis=1)\n",
    "flat_gens_preds = np.expand_dims(np.array([item for sublist in gens_preds for item in sublist]),axis=1)\n",
    "all_preds = np.vstack((flat_fakes_preds,flat_gens_preds))\n",
    "all_labels = np.vstack((np.zeros((flat_fakes_preds.shape[0],1)),np.ones((flat_gens_preds.shape[0],1))))\n",
    "\n",
    "fpr,tpr,threshold = roc_curve(all_labels,all_preds)\n",
    "fnr = 1 - tpr\n",
    "EER = fpr[np.nanargmin(np.absolute((fnr - fpr)))]\n",
    "eer_th = threshold[np.nanargmin(np.absolute((fnr - fpr)))]\n",
    "print('EER_glob : ', EER*100,'\\nEER_Threshold_glob : ', eer_th)\n",
    "glob_th = eer_th"
   ]
  },
  {
   "cell_type": "code",
   "execution_count": null,
   "metadata": {},
   "outputs": [
    {
     "name": "stdout",
     "output_type": "stream",
     "text": [
      "EER_user :  5.819999999999958\n"
     ]
    }
   ],
   "source": [
    "assert len(fakes_preds)==len(gens_preds)\n",
    "EER_accum=0\n",
    "for idx,val in enumerate(fakes_preds):\n",
    "    user_fakes_preds = np.expand_dims(np.array(fakes_preds[idx]),axis=1)\n",
    "    user_gens_preds = np.expand_dims(np.array(gens_preds[idx]),axis=1)\n",
    "    all_user_preds = np.vstack((user_fakes_preds,user_gens_preds))\n",
    "    all_user_labels = np.vstack((np.zeros((user_fakes_preds.shape[0],1)),np.ones((user_gens_preds.shape[0],1)))) \n",
    "    fpr,tpr,threshold = roc_curve(all_user_labels,all_user_preds)\n",
    "    fnr = 1 - tpr\n",
    "    EER = fpr[np.nanargmin(np.absolute((fnr - fpr)))]\n",
    "    EER_accum += EER\n",
    "    \n",
    "print('EER_user : ', (EER_accum*100)/len(fakes_preds)) "
   ]
  },
  {
   "cell_type": "code",
   "execution_count": null,
   "metadata": {},
   "outputs": [
    {
     "name": "stdout",
     "output_type": "stream",
     "text": [
      "0.21330879911100853\n"
     ]
    }
   ],
   "source": [
    "print(glob_th)"
   ]
  },
  {
   "cell_type": "markdown",
   "metadata": {},
   "source": [
    "# TRAIN AND TEST ON THE EXPLOITATION SET"
   ]
  },
  {
   "cell_type": "code",
   "execution_count": null,
   "metadata": {},
   "outputs": [
    {
     "name": "stderr",
     "output_type": "stream",
     "text": [
      "c:\\users\\mert\\anaconda3\\envs\\ml_gpu\\lib\\site-packages\\sklearn\\model_selection\\_split.py:2179: FutureWarning: From version 0.21, test_size will always complement train_size unless both are specified.\n",
      "  FutureWarning)\n"
     ]
    }
   ],
   "source": [
    "test_gens_preds = []\n",
    "test_fakes_preds = []\n",
    "\n",
    "train_idx, test_idx = train_test_split(np.arange(1,25), train_size=0.5)\n",
    "exp_df = data_f.loc[data_f['user_id'].isin(exp_user_ids)]\n",
    "exp_vf = visual_f.loc[exp_df.index]\n",
    "exp_df_gen = exp_df.loc[exp_df['fakeness']==0]\n",
    "exp_df_fake = exp_df.loc[exp_df['fakeness']==1]\n",
    "exp_df_fake_10 = exp_df_fake.loc[exp_df_fake['sig_id'].isin(choice(np.arange(1,31),10,replace=False))]\n",
    "exp_df_gen_12 = exp_df_gen.loc[exp_df_gen['sig_id'].isin(train_idx)]\n",
    "exp_df_valid_gen_10 = exp_df_gen.loc[exp_df_gen['sig_id'].isin(test_idx[0:10])]\n",
    "\n",
    "dev_val_df = data_f.loc[data_f['user_id'].isin(dev_val_user_ids)]\n",
    "dev_val_vf = visual_f.loc[dev_val_df.index]\n",
    "dev_val_df_gen = dev_val_df.loc[dev_val_df['fakeness']==0]\n",
    "dev_val_df_valid_gen_14 = dev_val_df_gen.loc[dev_val_df_gen['sig_id'].isin(choice(np.arange(1,25),14,replace=False))]"
   ]
  },
  {
   "cell_type": "code",
   "execution_count": null,
   "metadata": {},
   "outputs": [
    {
     "name": "stderr",
     "output_type": "stream",
     "text": [
      " 37%|############################1                                               | 1037/2800 [51:16<1:47:50,  3.67s/it]"
     ]
    }
   ],
   "source": [
    "for user_id in tqdm.tqdm(exp_user_ids, ascii=True):\n",
    "    clf = SVC(C=1,gamma='scale',class_weight='balanced', probability=False, kernel=user_kernel)\n",
    "    y_train = (pd.concat([exp_df_gen_12.loc[exp_df_gen_12['user_id']==user_id],dev_val_df_valid_gen_14.loc[dev_val_df_valid_gen_14['user_id']!=user_id]]))['user_id']==user_id\n",
    "    X_train = visual_f.loc[y_train.index]  \n",
    "    clf.fit(X_train, y_train)\n",
    "    y_valid_fakes = exp_df_fake_10.loc[(exp_df_fake_10['user_id']==user_id)]\n",
    "    X_valid_f = visual_f.loc[y_valid_fakes.index]\n",
    "    test_fakes_preds.append(clf.decision_function(X_valid_f))\n",
    "    y_valid_gens = exp_df_valid_gen_10.loc[exp_df_valid_gen_10['user_id']==user_id]\n",
    "    X_valid_g = visual_f.loc[y_valid_gens.index]\n",
    "    test_gens_preds.append(clf.decision_function(X_valid_g))"
   ]
  },
  {
   "cell_type": "code",
   "execution_count": null,
   "metadata": {},
   "outputs": [],
   "source": [
    "flat_test_fakes_preds = np.expand_dims(np.array([item for sublist in test_fakes_preds for item in sublist]),axis=1)\n",
    "flat_test_gens_preds = np.expand_dims(np.array([item for sublist in test_gens_preds for item in sublist]),axis=1)\n",
    "print(\"____At the EER threshold decided on the Validation set____\")\n",
    "print(\"FRR : \",(1-len(flat_test_gens_preds[flat_test_gens_preds>=glob_th])/len(flat_test_gens_preds))*100)\n",
    "print(\"FARskilled : \",(1-len(flat_test_fakes_preds[flat_test_fakes_preds<glob_th])/len(flat_test_fakes_preds))*100)"
   ]
  },
  {
   "cell_type": "code",
   "execution_count": null,
   "metadata": {},
   "outputs": [],
   "source": [
    "all_test_preds = np.vstack((flat_test_fakes_preds,flat_test_gens_preds))\n",
    "all_test_labels = np.vstack((np.zeros((flat_test_fakes_preds.shape[0],1)),np.ones((flat_test_gens_preds.shape[0],1))))\n",
    "\n",
    "fpr,tpr,threshold = roc_curve(all_test_labels,all_test_preds)\n",
    "fnr = 1 - tpr\n",
    "EER = fpr[np.nanargmin(np.absolute((fnr - fpr)))]\n",
    "eer_th = threshold[np.nanargmin(np.absolute((fnr - fpr)))]\n",
    "print('EER_glob for test set: ', EER*100,'\\nEER_Threshold_glob for test set: ', eer_th)"
   ]
  },
  {
   "cell_type": "code",
   "execution_count": null,
   "metadata": {},
   "outputs": [],
   "source": [
    "assert len(test_fakes_preds)==len(test_gens_preds)\n",
    "EER_accum=0\n",
    "for idx,val in enumerate(test_fakes_preds):\n",
    "    user_test_fakes_preds = np.expand_dims(np.array(test_fakes_preds[idx]),axis=1)\n",
    "    user_test_gens_preds = np.expand_dims(np.array(test_gens_preds[idx]),axis=1)\n",
    "    all_user_test_preds = np.vstack((user_test_fakes_preds,user_test_gens_preds))\n",
    "    all_user_test_labels = np.vstack((np.zeros((user_test_fakes_preds.shape[0],1)),np.ones((user_test_gens_preds.shape[0],1)))) \n",
    "    fpr,tpr,threshold = roc_curve(all_user_test_labels,all_user_test_preds)\n",
    "    fnr = 1 - tpr\n",
    "    EER = fpr[np.nanargmin(np.absolute((fnr - fpr)))]\n",
    "    EER_accum += EER\n",
    "    \n",
    "print('EER_user for test set : ', (EER_accum*100)/len(test_fakes_preds))"
   ]
  }
 ],
 "metadata": {
  "kernelspec": {
   "display_name": "Python 3",
   "language": "python",
   "name": "python3"
  },
  "language_info": {
   "codemirror_mode": {
    "name": "ipython",
    "version": 3
   },
   "file_extension": ".py",
   "mimetype": "text/x-python",
   "name": "python",
   "nbconvert_exporter": "python",
   "pygments_lexer": "ipython3",
   "version": "3.7.3"
  }
 },
 "nbformat": 4,
 "nbformat_minor": 2
}
