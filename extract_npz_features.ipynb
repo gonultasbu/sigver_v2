{
 "cells": [
  {
   "cell_type": "code",
   "execution_count": 34,
   "metadata": {},
   "outputs": [],
   "source": [
    "import numpy as np \n",
    "import pandas as pd\n",
    "from PIL import Image\n",
    "%matplotlib inline \n",
    "from matplotlib import pyplot as plt\n",
    "import torch\n",
    "from featurelearning.models.signet import SigNet\n",
    "from preprocessing.normalize import crop_center\n",
    "import tqdm\n",
    "import os"
   ]
  },
  {
   "cell_type": "code",
   "execution_count": 2,
   "metadata": {},
   "outputs": [
    {
     "name": "stdout",
     "output_type": "stream",
     "text": [
      "Using device: cuda\n"
     ]
    }
   ],
   "source": [
    "device = torch.device('cuda' if torch.cuda.is_available() else 'cpu')\n",
    "print('Using device: {}'.format(device))"
   ]
  },
  {
   "cell_type": "code",
   "execution_count": 3,
   "metadata": {},
   "outputs": [],
   "source": [
    "npz_dir = 'C:\\\\Users\\\\Mert\\\\Documents\\\\GitHub\\\\sigver\\\\gpds4k.npz'"
   ]
  },
  {
   "cell_type": "code",
   "execution_count": 4,
   "metadata": {},
   "outputs": [],
   "source": [
    "with np.load(npz_dir, allow_pickle=True) as data:\n",
    "        x, y, yforg, user_mapping, filenames = data['x'], data['y'], data['yforg'], data['user_mapping'], data['filenames']"
   ]
  },
  {
   "cell_type": "code",
   "execution_count": 5,
   "metadata": {},
   "outputs": [
    {
     "data": {
      "image/png": "[encoded data removed]",
      "text/plain": [
       "<Figure size 432x288 with 1 Axes>"
      ]
     },
     "metadata": {
      "needs_background": "light"
     },
     "output_type": "display_data"
    }
   ],
   "source": [
    "# Plot a sample\n",
    "plt.imshow(x[2,0,:,:],cmap='gray',vmin=0,vmax=255)\n",
    "plt.show()"
   ]
  },
  {
   "cell_type": "code",
   "execution_count": 6,
   "metadata": {},
   "outputs": [
    {
     "data": {
      "text/plain": [
       "IncompatibleKeys(missing_keys=[], unexpected_keys=[])"
      ]
     },
     "execution_count": 6,
     "metadata": {},
     "output_type": "execute_result"
    }
   ],
   "source": [
    "state_dict, classification_layer, forg_layer = torch.load('saved_models/bmgnet.pth')\n",
    "base_model = SigNet().to(device).eval()\n",
    "base_model.load_state_dict(state_dict)"
   ]
  },
  {
   "cell_type": "markdown",
   "metadata": {},
   "source": [
    "* Crop the middle 150x220"
   ]
  },
  {
   "cell_type": "code",
   "execution_count": 7,
   "metadata": {},
   "outputs": [
    {
     "name": "stderr",
     "output_type": "stream",
     "text": [
      "100%|#######################################################################| 216000/216000 [00:04<00:00, 51370.42it/s]\n"
     ]
    }
   ],
   "source": [
    "xc = np.zeros((x.shape[0],1,150,220), dtype=np.uint8)\n",
    "for idx in tqdm.tqdm(np.arange(x.shape[0]),ascii=True):\n",
    "    xc[idx,0,:,:] = crop_center(x[idx,0,:,:], (150,220))"
   ]
  },
  {
   "cell_type": "code",
   "execution_count": 8,
   "metadata": {},
   "outputs": [],
   "source": [
    "del x "
   ]
  },
  {
   "cell_type": "code",
   "execution_count": 9,
   "metadata": {},
   "outputs": [],
   "source": [
    "visual_f=np.zeros((xc.shape[0],2048))"
   ]
  },
  {
   "cell_type": "code",
   "execution_count": 10,
   "metadata": {},
   "outputs": [
    {
     "data": {
      "text/plain": [
       "(216000, 2048)"
      ]
     },
     "execution_count": 10,
     "metadata": {},
     "output_type": "execute_result"
    }
   ],
   "source": [
    "visual_f.shape"
   ]
  },
  {
   "cell_type": "code",
   "execution_count": 11,
   "metadata": {},
   "outputs": [],
   "source": [
    "with torch.no_grad():\n",
    "    for idx,gpu_slice in enumerate(np.split(xc,200)):\n",
    "        visual_f[idx*len(gpu_slice):(idx+1)*len(gpu_slice),:] = base_model(torch.tensor(gpu_slice).float().div(255).to(device)).cpu()"
   ]
  },
  {
   "cell_type": "code",
   "execution_count": 12,
   "metadata": {},
   "outputs": [],
   "source": [
    "visual_f = pd.DataFrame(visual_f)"
   ]
  },
  {
   "cell_type": "code",
   "execution_count": 13,
   "metadata": {},
   "outputs": [
    {
     "data": {
      "text/html": [
       "<div>\n",
       "<style scoped>\n",
       "    .dataframe tbody tr th:only-of-type {\n",
       "        vertical-align: middle;\n",
       "    }\n",
       "\n",
       "    .dataframe tbody tr th {\n",
       "        vertical-align: top;\n",
       "    }\n",
       "\n",
       "    .dataframe thead th {\n",
       "        text-align: right;\n",
       "    }\n",
       "</style>\n",
       "<table border=\"1\" class=\"dataframe\">\n",
       "  <thead>\n",
       "    <tr style=\"text-align: right;\">\n",
       "      <th></th>\n",
       "      <th>0</th>\n",
       "      <th>1</th>\n",
       "      <th>2</th>\n",
       "      <th>3</th>\n",
       "      <th>4</th>\n",
       "      <th>5</th>\n",
       "      <th>6</th>\n",
       "      <th>7</th>\n",
       "      <th>8</th>\n",
       "      <th>9</th>\n",
       "      <th>...</th>\n",
       "      <th>2038</th>\n",
       "      <th>2039</th>\n",
       "      <th>2040</th>\n",
       "      <th>2041</th>\n",
       "      <th>2042</th>\n",
       "      <th>2043</th>\n",
       "      <th>2044</th>\n",
       "      <th>2045</th>\n",
       "      <th>2046</th>\n",
       "      <th>2047</th>\n",
       "    </tr>\n",
       "  </thead>\n",
       "  <tbody>\n",
       "    <tr>\n",
       "      <th>0</th>\n",
       "      <td>0.0</td>\n",
       "      <td>0.118669</td>\n",
       "      <td>1.172929</td>\n",
       "      <td>1.222685</td>\n",
       "      <td>2.436231</td>\n",
       "      <td>0.978623</td>\n",
       "      <td>0.574977</td>\n",
       "      <td>0.439081</td>\n",
       "      <td>0.980337</td>\n",
       "      <td>0.0</td>\n",
       "      <td>...</td>\n",
       "      <td>0.287278</td>\n",
       "      <td>0.0</td>\n",
       "      <td>0.000000</td>\n",
       "      <td>1.463579</td>\n",
       "      <td>0.000000</td>\n",
       "      <td>0.587347</td>\n",
       "      <td>0.006602</td>\n",
       "      <td>0.0</td>\n",
       "      <td>0.166292</td>\n",
       "      <td>0.000000</td>\n",
       "    </tr>\n",
       "    <tr>\n",
       "      <th>1</th>\n",
       "      <td>0.0</td>\n",
       "      <td>0.102159</td>\n",
       "      <td>0.000000</td>\n",
       "      <td>0.918733</td>\n",
       "      <td>1.719270</td>\n",
       "      <td>0.456188</td>\n",
       "      <td>0.656368</td>\n",
       "      <td>0.122353</td>\n",
       "      <td>0.956184</td>\n",
       "      <td>0.0</td>\n",
       "      <td>...</td>\n",
       "      <td>0.115727</td>\n",
       "      <td>0.0</td>\n",
       "      <td>0.599104</td>\n",
       "      <td>1.386794</td>\n",
       "      <td>0.027456</td>\n",
       "      <td>0.641405</td>\n",
       "      <td>0.092848</td>\n",
       "      <td>0.0</td>\n",
       "      <td>0.471928</td>\n",
       "      <td>0.055559</td>\n",
       "    </tr>\n",
       "    <tr>\n",
       "      <th>2</th>\n",
       "      <td>0.0</td>\n",
       "      <td>0.064985</td>\n",
       "      <td>0.023189</td>\n",
       "      <td>0.782723</td>\n",
       "      <td>0.671646</td>\n",
       "      <td>0.009855</td>\n",
       "      <td>1.407754</td>\n",
       "      <td>0.461963</td>\n",
       "      <td>0.956464</td>\n",
       "      <td>0.0</td>\n",
       "      <td>...</td>\n",
       "      <td>0.411057</td>\n",
       "      <td>0.0</td>\n",
       "      <td>0.716536</td>\n",
       "      <td>1.058748</td>\n",
       "      <td>0.179106</td>\n",
       "      <td>0.684001</td>\n",
       "      <td>0.000000</td>\n",
       "      <td>0.0</td>\n",
       "      <td>0.297305</td>\n",
       "      <td>0.271356</td>\n",
       "    </tr>\n",
       "    <tr>\n",
       "      <th>3</th>\n",
       "      <td>0.0</td>\n",
       "      <td>0.059957</td>\n",
       "      <td>0.975151</td>\n",
       "      <td>0.895196</td>\n",
       "      <td>1.933434</td>\n",
       "      <td>0.763008</td>\n",
       "      <td>0.375753</td>\n",
       "      <td>0.155117</td>\n",
       "      <td>1.014449</td>\n",
       "      <td>0.0</td>\n",
       "      <td>...</td>\n",
       "      <td>0.339333</td>\n",
       "      <td>0.0</td>\n",
       "      <td>0.000000</td>\n",
       "      <td>1.109943</td>\n",
       "      <td>0.000000</td>\n",
       "      <td>0.000000</td>\n",
       "      <td>0.000000</td>\n",
       "      <td>0.0</td>\n",
       "      <td>0.449242</td>\n",
       "      <td>0.598309</td>\n",
       "    </tr>\n",
       "    <tr>\n",
       "      <th>4</th>\n",
       "      <td>0.0</td>\n",
       "      <td>0.091473</td>\n",
       "      <td>1.442126</td>\n",
       "      <td>1.497808</td>\n",
       "      <td>2.659508</td>\n",
       "      <td>0.081309</td>\n",
       "      <td>0.000000</td>\n",
       "      <td>0.188513</td>\n",
       "      <td>0.729919</td>\n",
       "      <td>0.0</td>\n",
       "      <td>...</td>\n",
       "      <td>0.000000</td>\n",
       "      <td>0.0</td>\n",
       "      <td>0.060842</td>\n",
       "      <td>0.820847</td>\n",
       "      <td>0.068798</td>\n",
       "      <td>0.000000</td>\n",
       "      <td>0.000000</td>\n",
       "      <td>0.0</td>\n",
       "      <td>0.152659</td>\n",
       "      <td>0.000000</td>\n",
       "    </tr>\n",
       "  </tbody>\n",
       "</table>\n",
       "<p>5 rows × 2048 columns</p>\n",
       "</div>"
      ],
      "text/plain": [
       "   0         1         2         3         4         5         6         7     \\\n",
       "0   0.0  0.118669  1.172929  1.222685  2.436231  0.978623  0.574977  0.439081   \n",
       "1   0.0  0.102159  0.000000  0.918733  1.719270  0.456188  0.656368  0.122353   \n",
       "2   0.0  0.064985  0.023189  0.782723  0.671646  0.009855  1.407754  0.461963   \n",
       "3   0.0  0.059957  0.975151  0.895196  1.933434  0.763008  0.375753  0.155117   \n",
       "4   0.0  0.091473  1.442126  1.497808  2.659508  0.081309  0.000000  0.188513   \n",
       "\n",
       "       8     9     ...      2038  2039      2040      2041      2042  \\\n",
       "0  0.980337   0.0  ...  0.287278   0.0  0.000000  1.463579  0.000000   \n",
       "1  0.956184   0.0  ...  0.115727   0.0  0.599104  1.386794  0.027456   \n",
       "2  0.956464   0.0  ...  0.411057   0.0  0.716536  1.058748  0.179106   \n",
       "3  1.014449   0.0  ...  0.339333   0.0  0.000000  1.109943  0.000000   \n",
       "4  0.729919   0.0  ...  0.000000   0.0  0.060842  0.820847  0.068798   \n",
       "\n",
       "       2043      2044  2045      2046      2047  \n",
       "0  0.587347  0.006602   0.0  0.166292  0.000000  \n",
       "1  0.641405  0.092848   0.0  0.471928  0.055559  \n",
       "2  0.684001  0.000000   0.0  0.297305  0.271356  \n",
       "3  0.000000  0.000000   0.0  0.449242  0.598309  \n",
       "4  0.000000  0.000000   0.0  0.152659  0.000000  \n",
       "\n",
       "[5 rows x 2048 columns]"
      ]
     },
     "execution_count": 13,
     "metadata": {},
     "output_type": "execute_result"
    }
   ],
   "source": [
    "visual_f.head()"
   ]
  },
  {
   "cell_type": "code",
   "execution_count": 27,
   "metadata": {},
   "outputs": [],
   "source": [
    "sig_ids = np.array([int(fname.split('-')[-1].split('.')[0]) for fname in np.squeeze(filenames)])\n",
    "user_ids = np.array([int(fname.split('-')[1]) for fname in np.squeeze(filenames)])"
   ]
  },
  {
   "cell_type": "code",
   "execution_count": 28,
   "metadata": {},
   "outputs": [],
   "source": [
    "filenames_ex = np.expand_dims(filenames,axis=1)\n",
    "yforg_ex = np.expand_dims(yforg,axis=1)\n",
    "sig_ids_ex = np.expand_dims(sig_ids,axis=1)\n",
    "user_ids_ex = np.expand_dims(user_ids,axis=1)"
   ]
  },
  {
   "cell_type": "code",
   "execution_count": 29,
   "metadata": {},
   "outputs": [],
   "source": [
    "data_f=pd.DataFrame(np.concatenate((filenames_ex, user_ids_ex, sig_ids_ex, yforg_ex),axis=1), columns=['path', 'user_id', 'sig_id', 'fakeness'])"
   ]
  },
  {
   "cell_type": "code",
   "execution_count": 36,
   "metadata": {},
   "outputs": [],
   "source": [
    "save_path = 'C:\\\\Users\\\\Mert\\\\Documents\\\\GitHub\\\\sigver_bmg\\\\data\\\\GPDSSyntheticSignatures4k\\\\bmgnet_features'\n",
    "data_f.to_csv(os.path.join(save_path,'data_features.csv'),index=False)\n",
    "visual_f.to_csv(os.path.join(save_path,'visual_features.csv'),index=False)"
   ]
  }
 ],
 "metadata": {
  "kernelspec": {
   "display_name": "Python 3",
   "language": "python",
   "name": "python3"
  },
  "language_info": {
   "codemirror_mode": {
    "name": "ipython",
    "version": 3
   },
   "file_extension": ".py",
   "mimetype": "text/x-python",
   "name": "python",
   "nbconvert_exporter": "python",
   "pygments_lexer": "ipython3",
   "version": "3.7.3"
  }
 },
 "nbformat": 4,
 "nbformat_minor": 2
}
