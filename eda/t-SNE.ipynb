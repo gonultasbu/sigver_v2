{
 "cells": [
  {
   "cell_type": "code",
   "execution_count": 1,
   "metadata": {},
   "outputs": [],
   "source": [
    "%matplotlib inline\n",
    "import os\n",
    "import sys\n",
    "sys.path.append(os.path.dirname(os.getcwd()))\n",
    "import numpy as np\n",
    "import pandas as pd \n",
    "import matplotlib.pyplot as plt\n",
    "from MulticoreTSNE import MulticoreTSNE as TSNE"
   ]
  },
  {
   "cell_type": "code",
   "execution_count": 2,
   "metadata": {},
   "outputs": [],
   "source": [
    "data_folder = 'K:\\\\sdp_dataset\\\\GPDSSyntheticSignatures4k\\\\bmgnet_features'"
   ]
  },
  {
   "cell_type": "code",
   "execution_count": 3,
   "metadata": {},
   "outputs": [],
   "source": [
    "data_f = pd.read_csv(os.path.join(data_folder,'data_features.csv'))\n",
    "visual_f = pd.read_csv(os.path.join(data_folder,'visual_features.csv'))"
   ]
  },
  {
   "cell_type": "code",
   "execution_count": 4,
   "metadata": {},
   "outputs": [],
   "source": [
    "tsne = TSNE(n_jobs=8)"
   ]
  },
  {
   "cell_type": "code",
   "execution_count": 5,
   "metadata": {},
   "outputs": [
    {
     "data": {
      "text/html": [
       "<div>\n",
       "<style scoped>\n",
       "    .dataframe tbody tr th:only-of-type {\n",
       "        vertical-align: middle;\n",
       "    }\n",
       "\n",
       "    .dataframe tbody tr th {\n",
       "        vertical-align: top;\n",
       "    }\n",
       "\n",
       "    .dataframe thead th {\n",
       "        text-align: right;\n",
       "    }\n",
       "</style>\n",
       "<table border=\"1\" class=\"dataframe\">\n",
       "  <thead>\n",
       "    <tr style=\"text-align: right;\">\n",
       "      <th></th>\n",
       "      <th>0</th>\n",
       "      <th>1</th>\n",
       "      <th>2</th>\n",
       "      <th>3</th>\n",
       "      <th>4</th>\n",
       "      <th>5</th>\n",
       "      <th>6</th>\n",
       "      <th>7</th>\n",
       "      <th>8</th>\n",
       "      <th>9</th>\n",
       "      <th>...</th>\n",
       "      <th>2038</th>\n",
       "      <th>2039</th>\n",
       "      <th>2040</th>\n",
       "      <th>2041</th>\n",
       "      <th>2042</th>\n",
       "      <th>2043</th>\n",
       "      <th>2044</th>\n",
       "      <th>2045</th>\n",
       "      <th>2046</th>\n",
       "      <th>2047</th>\n",
       "    </tr>\n",
       "  </thead>\n",
       "  <tbody>\n",
       "    <tr>\n",
       "      <th>0</th>\n",
       "      <td>0.0</td>\n",
       "      <td>0.118669</td>\n",
       "      <td>1.172929</td>\n",
       "      <td>1.222685</td>\n",
       "      <td>2.436231</td>\n",
       "      <td>0.978623</td>\n",
       "      <td>0.574977</td>\n",
       "      <td>0.439081</td>\n",
       "      <td>0.980337</td>\n",
       "      <td>0.0</td>\n",
       "      <td>...</td>\n",
       "      <td>0.287278</td>\n",
       "      <td>0.0</td>\n",
       "      <td>0.000000</td>\n",
       "      <td>1.463579</td>\n",
       "      <td>0.000000</td>\n",
       "      <td>0.587347</td>\n",
       "      <td>0.006602</td>\n",
       "      <td>0.0</td>\n",
       "      <td>0.166292</td>\n",
       "      <td>0.000000</td>\n",
       "    </tr>\n",
       "    <tr>\n",
       "      <th>1</th>\n",
       "      <td>0.0</td>\n",
       "      <td>0.102159</td>\n",
       "      <td>0.000000</td>\n",
       "      <td>0.918733</td>\n",
       "      <td>1.719270</td>\n",
       "      <td>0.456188</td>\n",
       "      <td>0.656368</td>\n",
       "      <td>0.122353</td>\n",
       "      <td>0.956184</td>\n",
       "      <td>0.0</td>\n",
       "      <td>...</td>\n",
       "      <td>0.115727</td>\n",
       "      <td>0.0</td>\n",
       "      <td>0.599104</td>\n",
       "      <td>1.386794</td>\n",
       "      <td>0.027456</td>\n",
       "      <td>0.641405</td>\n",
       "      <td>0.092848</td>\n",
       "      <td>0.0</td>\n",
       "      <td>0.471928</td>\n",
       "      <td>0.055559</td>\n",
       "    </tr>\n",
       "    <tr>\n",
       "      <th>2</th>\n",
       "      <td>0.0</td>\n",
       "      <td>0.064985</td>\n",
       "      <td>0.023189</td>\n",
       "      <td>0.782723</td>\n",
       "      <td>0.671646</td>\n",
       "      <td>0.009855</td>\n",
       "      <td>1.407754</td>\n",
       "      <td>0.461963</td>\n",
       "      <td>0.956464</td>\n",
       "      <td>0.0</td>\n",
       "      <td>...</td>\n",
       "      <td>0.411057</td>\n",
       "      <td>0.0</td>\n",
       "      <td>0.716536</td>\n",
       "      <td>1.058748</td>\n",
       "      <td>0.179106</td>\n",
       "      <td>0.684001</td>\n",
       "      <td>0.000000</td>\n",
       "      <td>0.0</td>\n",
       "      <td>0.297305</td>\n",
       "      <td>0.271356</td>\n",
       "    </tr>\n",
       "    <tr>\n",
       "      <th>3</th>\n",
       "      <td>0.0</td>\n",
       "      <td>0.059957</td>\n",
       "      <td>0.975151</td>\n",
       "      <td>0.895196</td>\n",
       "      <td>1.933434</td>\n",
       "      <td>0.763008</td>\n",
       "      <td>0.375753</td>\n",
       "      <td>0.155117</td>\n",
       "      <td>1.014449</td>\n",
       "      <td>0.0</td>\n",
       "      <td>...</td>\n",
       "      <td>0.339333</td>\n",
       "      <td>0.0</td>\n",
       "      <td>0.000000</td>\n",
       "      <td>1.109943</td>\n",
       "      <td>0.000000</td>\n",
       "      <td>0.000000</td>\n",
       "      <td>0.000000</td>\n",
       "      <td>0.0</td>\n",
       "      <td>0.449242</td>\n",
       "      <td>0.598309</td>\n",
       "    </tr>\n",
       "    <tr>\n",
       "      <th>4</th>\n",
       "      <td>0.0</td>\n",
       "      <td>0.091473</td>\n",
       "      <td>1.442126</td>\n",
       "      <td>1.497808</td>\n",
       "      <td>2.659508</td>\n",
       "      <td>0.081309</td>\n",
       "      <td>0.000000</td>\n",
       "      <td>0.188513</td>\n",
       "      <td>0.729919</td>\n",
       "      <td>0.0</td>\n",
       "      <td>...</td>\n",
       "      <td>0.000000</td>\n",
       "      <td>0.0</td>\n",
       "      <td>0.060842</td>\n",
       "      <td>0.820847</td>\n",
       "      <td>0.068798</td>\n",
       "      <td>0.000000</td>\n",
       "      <td>0.000000</td>\n",
       "      <td>0.0</td>\n",
       "      <td>0.152659</td>\n",
       "      <td>0.000000</td>\n",
       "    </tr>\n",
       "  </tbody>\n",
       "</table>\n",
       "<p>5 rows × 2048 columns</p>\n",
       "</div>"
      ],
      "text/plain": [
       "     0         1         2         3         4         5         6         7  \\\n",
       "0  0.0  0.118669  1.172929  1.222685  2.436231  0.978623  0.574977  0.439081   \n",
       "1  0.0  0.102159  0.000000  0.918733  1.719270  0.456188  0.656368  0.122353   \n",
       "2  0.0  0.064985  0.023189  0.782723  0.671646  0.009855  1.407754  0.461963   \n",
       "3  0.0  0.059957  0.975151  0.895196  1.933434  0.763008  0.375753  0.155117   \n",
       "4  0.0  0.091473  1.442126  1.497808  2.659508  0.081309  0.000000  0.188513   \n",
       "\n",
       "          8    9  ...      2038  2039      2040      2041      2042      2043  \\\n",
       "0  0.980337  0.0  ...  0.287278   0.0  0.000000  1.463579  0.000000  0.587347   \n",
       "1  0.956184  0.0  ...  0.115727   0.0  0.599104  1.386794  0.027456  0.641405   \n",
       "2  0.956464  0.0  ...  0.411057   0.0  0.716536  1.058748  0.179106  0.684001   \n",
       "3  1.014449  0.0  ...  0.339333   0.0  0.000000  1.109943  0.000000  0.000000   \n",
       "4  0.729919  0.0  ...  0.000000   0.0  0.060842  0.820847  0.068798  0.000000   \n",
       "\n",
       "       2044  2045      2046      2047  \n",
       "0  0.006602   0.0  0.166292  0.000000  \n",
       "1  0.092848   0.0  0.471928  0.055559  \n",
       "2  0.000000   0.0  0.297305  0.271356  \n",
       "3  0.000000   0.0  0.449242  0.598309  \n",
       "4  0.000000   0.0  0.152659  0.000000  \n",
       "\n",
       "[5 rows x 2048 columns]"
      ]
     },
     "execution_count": 5,
     "metadata": {},
     "output_type": "execute_result"
    }
   ],
   "source": [
    "visual_f.head()"
   ]
  },
  {
   "cell_type": "code",
   "execution_count": 6,
   "metadata": {},
   "outputs": [
    {
     "data": {
      "text/html": [
       "<div>\n",
       "<style scoped>\n",
       "    .dataframe tbody tr th:only-of-type {\n",
       "        vertical-align: middle;\n",
       "    }\n",
       "\n",
       "    .dataframe tbody tr th {\n",
       "        vertical-align: top;\n",
       "    }\n",
       "\n",
       "    .dataframe thead th {\n",
       "        text-align: right;\n",
       "    }\n",
       "</style>\n",
       "<table border=\"1\" class=\"dataframe\">\n",
       "  <thead>\n",
       "    <tr style=\"text-align: right;\">\n",
       "      <th></th>\n",
       "      <th>path</th>\n",
       "      <th>user_id</th>\n",
       "      <th>sig_id</th>\n",
       "      <th>fakeness</th>\n",
       "    </tr>\n",
       "  </thead>\n",
       "  <tbody>\n",
       "    <tr>\n",
       "      <th>0</th>\n",
       "      <td>c-001-01.jpg</td>\n",
       "      <td>1</td>\n",
       "      <td>1</td>\n",
       "      <td>0</td>\n",
       "    </tr>\n",
       "    <tr>\n",
       "      <th>1</th>\n",
       "      <td>c-001-02.jpg</td>\n",
       "      <td>1</td>\n",
       "      <td>2</td>\n",
       "      <td>0</td>\n",
       "    </tr>\n",
       "    <tr>\n",
       "      <th>2</th>\n",
       "      <td>c-001-03.jpg</td>\n",
       "      <td>1</td>\n",
       "      <td>3</td>\n",
       "      <td>0</td>\n",
       "    </tr>\n",
       "    <tr>\n",
       "      <th>3</th>\n",
       "      <td>c-001-04.jpg</td>\n",
       "      <td>1</td>\n",
       "      <td>4</td>\n",
       "      <td>0</td>\n",
       "    </tr>\n",
       "    <tr>\n",
       "      <th>4</th>\n",
       "      <td>c-001-05.jpg</td>\n",
       "      <td>1</td>\n",
       "      <td>5</td>\n",
       "      <td>0</td>\n",
       "    </tr>\n",
       "  </tbody>\n",
       "</table>\n",
       "</div>"
      ],
      "text/plain": [
       "           path  user_id  sig_id  fakeness\n",
       "0  c-001-01.jpg        1       1         0\n",
       "1  c-001-02.jpg        1       2         0\n",
       "2  c-001-03.jpg        1       3         0\n",
       "3  c-001-04.jpg        1       4         0\n",
       "4  c-001-05.jpg        1       5         0"
      ]
     },
     "execution_count": 6,
     "metadata": {},
     "output_type": "execute_result"
    }
   ],
   "source": [
    "data_f.head()"
   ]
  },
  {
   "cell_type": "code",
   "execution_count": 7,
   "metadata": {},
   "outputs": [],
   "source": [
    "sorted_id_list = np.sort(data_f['user_id'].unique())\n",
    "random_50_ids = np.random.choice(sorted_id_list,size=20,replace=False)"
   ]
  },
  {
   "cell_type": "code",
   "execution_count": 8,
   "metadata": {},
   "outputs": [],
   "source": [
    "X = visual_f.loc[data_f[data_f['user_id'].isin(random_50_ids)].index]\n",
    "target = data_f[data_f['user_id'].isin(random_50_ids)]['fakeness']"
   ]
  },
  {
   "cell_type": "code",
   "execution_count": 9,
   "metadata": {},
   "outputs": [],
   "source": [
    "Y = tsne.fit_transform(X)"
   ]
  },
  {
   "cell_type": "code",
   "execution_count": 10,
   "metadata": {},
   "outputs": [
    {
     "name": "stderr",
     "output_type": "stream",
     "text": [
      "No handles with labels found to put in legend.\n"
     ]
    },
    {
     "data": {
      "image/png": "[encoded data removed]",
      "text/plain": [
       "<Figure size 432x288 with 2 Axes>"
      ]
     },
     "metadata": {
      "needs_background": "light"
     },
     "output_type": "display_data"
    }
   ],
   "source": [
    "vis_x = Y[:, 0]\n",
    "vis_y = Y[:, 1]\n",
    "plt.scatter(vis_x, vis_y, c=target*10, cmap=plt.cm.get_cmap(\"jet\", 10), marker='.')\n",
    "plt.colorbar(ticks=range(10))\n",
    "plt.clim(-0.5, 9.5)\n",
    "plt.show()"
   ]
  },
  {
   "cell_type": "code",
   "execution_count": null,
   "metadata": {},
   "outputs": [],
   "source": []
  }
 ],
 "metadata": {
  "kernelspec": {
   "display_name": "Python 3",
   "language": "python",
   "name": "python3"
  },
  "language_info": {
   "codemirror_mode": {
    "name": "ipython",
    "version": 3
   },
   "file_extension": ".py",
   "mimetype": "text/x-python",
   "name": "python",
   "nbconvert_exporter": "python",
   "pygments_lexer": "ipython3",
   "version": "3.7.3"
  }
 },
 "nbformat": 4,
 "nbformat_minor": 2
}
